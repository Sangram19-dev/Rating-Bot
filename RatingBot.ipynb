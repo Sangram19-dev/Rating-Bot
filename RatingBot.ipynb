{
 "cells": [
  {
   "cell_type": "code",
   "execution_count": 25,
   "id": "08c00044",
   "metadata": {},
   "outputs": [],
   "source": [
    "#Rating bot is a AI model which will decide if the customer review is average,poor or Good\n",
    "\n",
    "import pandas\n",
    "from sklearn.feature_extraction.text import CountVectorizer,TfidfTransformer\n",
    "dt = pandas.read_csv('reviews.csv')"
   ]
  },
  {
   "cell_type": "code",
   "execution_count": 26,
   "id": "e51af7c2",
   "metadata": {},
   "outputs": [],
   "source": [
    "#data processing/data cleaning\n",
    "\n",
    "#create reviews as input and rating as output\n",
    "\n",
    "x = dt['Reviews']\n",
    "#feature Extraction\n",
    "\n",
    "vec = CountVectorizer()\n",
    "vec.fit(x)\n",
    "vec_x = vec.transform(x)"
   ]
  },
  {
   "cell_type": "code",
   "execution_count": 27,
   "id": "7f4b8020",
   "metadata": {},
   "outputs": [],
   "source": [
    "#TF IDF extraction\n",
    "tfidf = TfidfTransformer()\n",
    "tfidf.fit(vec_x)\n",
    "rev = tfidf.transform(vec_x) #extracted features from our review"
   ]
  },
  {
   "cell_type": "code",
   "execution_count": 28,
   "id": "d7c57085",
   "metadata": {},
   "outputs": [],
   "source": [
    "y = dt['Rating'].tolist()"
   ]
  },
  {
   "cell_type": "code",
   "execution_count": 29,
   "id": "b7fa213e",
   "metadata": {},
   "outputs": [],
   "source": [
    "#creating model\n",
    "\n",
    "from sklearn.tree import DecisionTreeClassifier"
   ]
  },
  {
   "cell_type": "code",
   "execution_count": 30,
   "id": "2dd7221a",
   "metadata": {},
   "outputs": [
    {
     "data": {
      "text/plain": [
       "DecisionTreeClassifier()"
      ]
     },
     "execution_count": 30,
     "metadata": {},
     "output_type": "execute_result"
    }
   ],
   "source": [
    "Model = DecisionTreeClassifier()\n",
    "Model.fit(rev,y)"
   ]
  },
  {
   "cell_type": "code",
   "execution_count": 31,
   "id": "ada1d21a",
   "metadata": {},
   "outputs": [
    {
     "data": {
      "text/plain": [
       "array(['Poor'], dtype='<U7')"
      ]
     },
     "execution_count": 31,
     "metadata": {},
     "output_type": "execute_result"
    }
   ],
   "source": [
    "txt = [\"The product is not in good condition\"]\n",
    "txt_ex = vec.transform(txt)\n",
    "txt_tf =tfidf.transform(txt_ex)\n",
    "Model.predict(txt_tf)"
   ]
  },
  {
   "cell_type": "code",
   "execution_count": 32,
   "id": "94e8c15c",
   "metadata": {},
   "outputs": [],
   "source": [
    "#make final \n",
    "\n",
    "def rate(*comment):\n",
    "    f_ex = vec.transform(comment)\n",
    "    tf = tfidf.transform(f_ex)\n",
    "    pred = Model.predict(tf)\n",
    "    for rev,ret in zip(comment,pred):\n",
    "        print(rev,':\\n','Rating:', ret)"
   ]
  },
  {
   "cell_type": "code",
   "execution_count": 33,
   "id": "f9f9e0f5",
   "metadata": {},
   "outputs": [
    {
     "name": "stdout",
     "output_type": "stream",
     "text": [
      "Not in good condition :\n",
      " Rating: Poor\n",
      "It is satisfactory :\n",
      " Rating: Good\n"
     ]
    }
   ],
   "source": [
    "rate(\"Not in good condition\",'It is satisfactory')"
   ]
  },
  {
   "cell_type": "code",
   "execution_count": 53,
   "id": "6657bc42",
   "metadata": {},
   "outputs": [
    {
     "name": "stdout",
     "output_type": "stream",
     "text": [
      "Enter user review:\n",
      "it is average\n",
      "Rating is:\n",
      "it is average :\n",
      " Rating: Good\n"
     ]
    }
   ],
   "source": [
    "r = input(\"Enter user review:\\n\")\n",
    "print(\"Rating is:\")\n",
    "rate(r)"
   ]
  },
  {
   "cell_type": "code",
   "execution_count": null,
   "id": "abcedcb7",
   "metadata": {},
   "outputs": [],
   "source": [
    "\n"
   ]
  },
  {
   "cell_type": "code",
   "execution_count": null,
   "id": "c5e179f7",
   "metadata": {},
   "outputs": [],
   "source": []
  }
 ],
 "metadata": {
  "kernelspec": {
   "display_name": "Python 3",
   "language": "python",
   "name": "python3"
  },
  "language_info": {
   "codemirror_mode": {
    "name": "ipython",
    "version": 3
   },
   "file_extension": ".py",
   "mimetype": "text/x-python",
   "name": "python",
   "nbconvert_exporter": "python",
   "pygments_lexer": "ipython3",
   "version": "3.8.8"
  }
 },
 "nbformat": 4,
 "nbformat_minor": 5
}
